{
  "nbformat": 4,
  "nbformat_minor": 0,
  "metadata": {
    "colab": {
      "name": "current_nws_warnings.ipynb",
      "provenance": [],
      "authorship_tag": "ABX9TyN9zcLOy3+64U/ubDVZBkxw",
      "include_colab_link": true
    },
    "kernelspec": {
      "name": "python3",
      "display_name": "Python 3"
    }
  },
  "cells": [
    {
      "cell_type": "markdown",
      "metadata": {
        "id": "view-in-github",
        "colab_type": "text"
      },
      "source": [
        "<a href=\"https://colab.research.google.com/github/rtphokie/current_nws_warnings/blob/dev/current_nws_warnings.ipynb\" target=\"_parent\"><img src=\"https://colab.research.google.com/assets/colab-badge.svg\" alt=\"Open In Colab\"/></a>"
      ]
    },
    {
      "cell_type": "code",
      "metadata": {
        "id": "HEtldGiwWLN0",
        "colab_type": "code",
        "colab": {
          "base_uri": "https://localhost:8080/",
          "height": 694
        },
        "outputId": "c648924c-7580-4ba2-ca38-e2060d8862f9"
      },
      "source": [
        "try:\n",
        "  from mpl_toolkits.basemap import Basemap\n",
        "except:\n",
        "  !apt-get install libgeos-dev\n",
        "  !pip install https://github.com/matplotlib/basemap/archive/master.zip\n",
        "  %matplotlib inline\n",
        "import numpy as np\n",
        "import matplotlib.pyplot as plt\n",
        "from mpl_toolkits.basemap import Basemap\n",
        "from matplotlib.patches import Polygon\n",
        "from matplotlib.collections import PatchCollection\n",
        "from matplotlib.patches import PathPatch\n",
        "import requests\n",
        "import os\n",
        "import logging\n",
        "from pprint import pprint\n",
        "FORMAT = '%(asctime)s - %(name)s - %(levelname)s - %(message)s'\n",
        "logging.basicConfig(format=FORMAT, filename='mapping.log',level=logging.DEBUG)\n",
        "logging.getLogger(\"urllib3\").setLevel(logging.WARNING)\n",
        "logging.getLogger(\"requests\").setLevel(logging.WARNING)\n",
        "logging.getLogger(\"matplotlib\").setLevel(logging.WARNING)\n",
        "\n",
        "# Constants\n",
        "earth_radius_major = 6378137.000 # useful for more accurate rendering of Mercator and Lambert projections\n",
        "earth_radius_minor = 6356752.3142"
      ],
      "execution_count": 0,
      "outputs": [
        {
          "output_type": "stream",
          "text": [
            "Reading package lists... Done\n",
            "Building dependency tree       \n",
            "Reading state information... Done\n",
            "Suggested packages:\n",
            "  libgdal-doc\n",
            "The following NEW packages will be installed:\n",
            "  libgeos-dev\n",
            "0 upgraded, 1 newly installed, 0 to remove and 25 not upgraded.\n",
            "Need to get 73.1 kB of archives.\n",
            "After this operation, 486 kB of additional disk space will be used.\n",
            "Get:1 http://archive.ubuntu.com/ubuntu bionic/universe amd64 libgeos-dev amd64 3.6.2-1build2 [73.1 kB]\n",
            "Fetched 73.1 kB in 0s (165 kB/s)\n",
            "Selecting previously unselected package libgeos-dev.\n",
            "(Reading database ... 144568 files and directories currently installed.)\n",
            "Preparing to unpack .../libgeos-dev_3.6.2-1build2_amd64.deb ...\n",
            "Unpacking libgeos-dev (3.6.2-1build2) ...\n",
            "Setting up libgeos-dev (3.6.2-1build2) ...\n",
            "Processing triggers for man-db (2.8.3-2ubuntu0.1) ...\n",
            "Collecting https://github.com/matplotlib/basemap/archive/master.zip\n",
            "\u001b[?25l  Downloading https://github.com/matplotlib/basemap/archive/master.zip (133.1MB)\n",
            "\u001b[K     |████████████████████████████████| 133.1MB 46kB/s \n",
            "\u001b[?25hRequirement already satisfied: matplotlib!=3.0.1,>=1.0.0 in /usr/local/lib/python3.6/dist-packages (from basemap==1.2.1) (3.2.1)\n",
            "Requirement already satisfied: numpy>=1.2.1 in /usr/local/lib/python3.6/dist-packages (from basemap==1.2.1) (1.18.2)\n",
            "Collecting pyproj>=1.9.3\n",
            "\u001b[?25l  Downloading https://files.pythonhosted.org/packages/ce/37/705ee471f71130d4ceee41bbcb06f3b52175cb89273cbb5755ed5e6374e0/pyproj-2.6.0-cp36-cp36m-manylinux2010_x86_64.whl (10.4MB)\n",
            "\u001b[K     |████████████████████████████████| 10.4MB 2.8MB/s \n",
            "\u001b[?25hCollecting pyshp>=1.2.0\n",
            "\u001b[?25l  Downloading https://files.pythonhosted.org/packages/27/16/3bf15aa864fb77845fab8007eda22c2bd67bd6c1fd13496df452c8c43621/pyshp-2.1.0.tar.gz (215kB)\n",
            "\u001b[K     |████████████████████████████████| 225kB 46.3MB/s \n",
            "\u001b[?25hRequirement already satisfied: six in /usr/local/lib/python3.6/dist-packages (from basemap==1.2.1) (1.12.0)\n",
            "Requirement already satisfied: kiwisolver>=1.0.1 in /usr/local/lib/python3.6/dist-packages (from matplotlib!=3.0.1,>=1.0.0->basemap==1.2.1) (1.2.0)\n",
            "Requirement already satisfied: pyparsing!=2.0.4,!=2.1.2,!=2.1.6,>=2.0.1 in /usr/local/lib/python3.6/dist-packages (from matplotlib!=3.0.1,>=1.0.0->basemap==1.2.1) (2.4.7)\n",
            "Requirement already satisfied: cycler>=0.10 in /usr/local/lib/python3.6/dist-packages (from matplotlib!=3.0.1,>=1.0.0->basemap==1.2.1) (0.10.0)\n",
            "Requirement already satisfied: python-dateutil>=2.1 in /usr/local/lib/python3.6/dist-packages (from matplotlib!=3.0.1,>=1.0.0->basemap==1.2.1) (2.8.1)\n",
            "Building wheels for collected packages: basemap, pyshp\n"
          ],
          "name": "stdout"
        }
      ]
    }
  ]
}